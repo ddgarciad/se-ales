{
  "nbformat": 4,
  "nbformat_minor": 0,
  "metadata": {
    "colab": {
      "provenance": [],
      "include_colab_link": true
    },
    "kernelspec": {
      "name": "python3",
      "display_name": "Python 3"
    },
    "language_info": {
      "name": "python"
    }
  },
  "cells": [
    {
      "cell_type": "markdown",
      "metadata": {
        "id": "view-in-github",
        "colab_type": "text"
      },
      "source": [
        "<a href=\"https://colab.research.google.com/github/ddgarciad/se-ales/blob/main/Taller_Pre_Parcial.ipynb\" target=\"_parent\"><img src=\"https://colab.research.google.com/assets/colab-badge.svg\" alt=\"Open In Colab\"/></a>"
      ]
    },
    {
      "cell_type": "code",
      "source": [
        "pip install yt-dlp pydub numpy matplotlib scipy simpleaudio\n"
      ],
      "metadata": {
        "colab": {
          "base_uri": "https://localhost:8080/"
        },
        "id": "dYnQArKyqLoa",
        "outputId": "c0ce9c9d-3366-4d9c-98c1-5e3d3dbd70fe"
      },
      "execution_count": 1,
      "outputs": [
        {
          "output_type": "stream",
          "name": "stdout",
          "text": [
            "Collecting yt-dlp\n",
            "  Downloading yt_dlp-2024.12.13-py3-none-any.whl.metadata (172 kB)\n",
            "\u001b[2K     \u001b[90m━━━━━━━━━━━━━━━━━━━━━━━━━━━━━━━━━━━━━━━━\u001b[0m \u001b[32m172.1/172.1 kB\u001b[0m \u001b[31m613.2 kB/s\u001b[0m eta \u001b[36m0:00:00\u001b[0m\n",
            "\u001b[?25hCollecting pydub\n",
            "  Downloading pydub-0.25.1-py2.py3-none-any.whl.metadata (1.4 kB)\n",
            "Requirement already satisfied: numpy in /usr/local/lib/python3.10/dist-packages (1.26.4)\n",
            "Requirement already satisfied: matplotlib in /usr/local/lib/python3.10/dist-packages (3.8.0)\n",
            "Requirement already satisfied: scipy in /usr/local/lib/python3.10/dist-packages (1.13.1)\n",
            "Collecting simpleaudio\n",
            "  Downloading simpleaudio-1.0.4.tar.gz (2.0 MB)\n",
            "\u001b[2K     \u001b[90m━━━━━━━━━━━━━━━━━━━━━━━━━━━━━━━━━━━━━━━━\u001b[0m \u001b[32m2.0/2.0 MB\u001b[0m \u001b[31m16.2 MB/s\u001b[0m eta \u001b[36m0:00:00\u001b[0m\n",
            "\u001b[?25h  Preparing metadata (setup.py) ... \u001b[?25l\u001b[?25hdone\n",
            "Requirement already satisfied: contourpy>=1.0.1 in /usr/local/lib/python3.10/dist-packages (from matplotlib) (1.3.1)\n",
            "Requirement already satisfied: cycler>=0.10 in /usr/local/lib/python3.10/dist-packages (from matplotlib) (0.12.1)\n",
            "Requirement already satisfied: fonttools>=4.22.0 in /usr/local/lib/python3.10/dist-packages (from matplotlib) (4.55.3)\n",
            "Requirement already satisfied: kiwisolver>=1.0.1 in /usr/local/lib/python3.10/dist-packages (from matplotlib) (1.4.7)\n",
            "Requirement already satisfied: packaging>=20.0 in /usr/local/lib/python3.10/dist-packages (from matplotlib) (24.2)\n",
            "Requirement already satisfied: pillow>=6.2.0 in /usr/local/lib/python3.10/dist-packages (from matplotlib) (11.0.0)\n",
            "Requirement already satisfied: pyparsing>=2.3.1 in /usr/local/lib/python3.10/dist-packages (from matplotlib) (3.2.0)\n",
            "Requirement already satisfied: python-dateutil>=2.7 in /usr/local/lib/python3.10/dist-packages (from matplotlib) (2.8.2)\n",
            "Requirement already satisfied: six>=1.5 in /usr/local/lib/python3.10/dist-packages (from python-dateutil>=2.7->matplotlib) (1.17.0)\n",
            "Downloading yt_dlp-2024.12.13-py3-none-any.whl (3.2 MB)\n",
            "\u001b[2K   \u001b[90m━━━━━━━━━━━━━━━━━━━━━━━━━━━━━━━━━━━━━━━━\u001b[0m \u001b[32m3.2/3.2 MB\u001b[0m \u001b[31m26.7 MB/s\u001b[0m eta \u001b[36m0:00:00\u001b[0m\n",
            "\u001b[?25hDownloading pydub-0.25.1-py2.py3-none-any.whl (32 kB)\n",
            "Building wheels for collected packages: simpleaudio\n",
            "  Building wheel for simpleaudio (setup.py) ... \u001b[?25l\u001b[?25hdone\n",
            "  Created wheel for simpleaudio: filename=simpleaudio-1.0.4-cp310-cp310-linux_x86_64.whl size=2054405 sha256=a58f0840a55ae110da89c088034c54f590d55acd75986b73d338775ec356282e\n",
            "  Stored in directory: /root/.cache/pip/wheels/10/70/ed/8c41675109565c2c65c3ac40d20859fc9d3f93a8efbb11d1c7\n",
            "Successfully built simpleaudio\n",
            "Installing collected packages: simpleaudio, pydub, yt-dlp\n",
            "Successfully installed pydub-0.25.1 simpleaudio-1.0.4 yt-dlp-2024.12.13\n"
          ]
        }
      ]
    },
    {
      "cell_type": "code",
      "source": [
        "pip install simpleaudio\n"
      ],
      "metadata": {
        "colab": {
          "base_uri": "https://localhost:8080/"
        },
        "id": "YBaBkmwwuXru",
        "outputId": "7017d1ba-38b9-4b06-8172-c878a70d7f0a"
      },
      "execution_count": 2,
      "outputs": [
        {
          "output_type": "stream",
          "name": "stdout",
          "text": [
            "Requirement already satisfied: simpleaudio in /usr/local/lib/python3.10/dist-packages (1.0.4)\n"
          ]
        }
      ]
    },
    {
      "cell_type": "code",
      "source": [
        "import numpy as np\n",
        "import matplotlib.pyplot as plt\n",
        "import os\n",
        "import soundfile as sf\n",
        "from scipy.fft import fft\n",
        "from pydub import AudioSegment\n",
        "\n",
        "# Intentar importar yt_dlp y manejar la falta de instalación\n",
        "try:\n",
        "    import yt_dlp\n",
        "except ImportError:\n",
        "    print(\"El módulo 'yt_dlp' no está instalado. Por favor, instálalo usando 'pip install yt-dlp'.\")\n",
        "    exit()\n",
        "\n",
        "# Descargar el audio de YouTube y convertir a WAV\n",
        "def descargar_audio_youtube(url, output_filename='audio.wav'):\n",
        "    ydl_opts = {\n",
        "        'format': 'bestaudio[ext=m4a]',\n",
        "        'outtmpl': 'audio.m4a'\n",
        "    }\n",
        "\n",
        "    with yt_dlp.YoutubeDL(ydl_opts) as ydl:\n",
        "        ydl.download([url])\n",
        "\n",
        "    # Convertir a WAV\n",
        "    audio = AudioSegment.from_file(\"audio.m4a\", format=\"m4a\")\n",
        "    audio.export(output_filename, format=\"wav\")\n",
        "    os.remove(\"audio.m4a\")  # Limpiar el archivo m4a temporal\n",
        "\n",
        "# Cargar el archivo de audio\n",
        "def cargar_audio(filename):\n",
        "    try:\n",
        "        data, sample_rate = sf.read(filename)\n",
        "        return sample_rate, data\n",
        "    except FileNotFoundError:\n",
        "        print(f\"No se encontró el archivo {filename}. Asegúrate de que el archivo exista y esté en la ubicación correcta.\")\n",
        "        return None, None\n",
        "\n",
        "# Convertir audio estéreo a mono\n",
        "def convertir_a_mono(data):\n",
        "    if len(data.shape) > 1:  # Si es estéreo\n",
        "        return np.mean(data, axis=1)\n",
        "    return data\n",
        "\n",
        "# Graficar la señal en el tiempo\n",
        "def graficar_senal_tiempo(t, signal, title, xlabel, ylabel):\n",
        "    plt.figure(figsize=(10, 4))\n",
        "    plt.plot(t, signal)\n",
        "    plt.title(title)\n",
        "    plt.xlabel(xlabel)\n",
        "    plt.ylabel(ylabel)\n",
        "    plt.grid()\n",
        "    plt.show()\n",
        "\n",
        "# Graficar la transformada de Fourier\n",
        "def graficar_fft(t, signal, title):\n",
        "    N = len(signal)\n",
        "    T = t[1] - t[0]\n",
        "    yf = fft(signal)\n",
        "    xf = np.fft.fftfreq(N, T)[:N // 2]\n",
        "\n",
        "    plt.figure(figsize=(10, 4))\n",
        "    plt.plot(xf, np.abs(yf[:N // 2]))\n",
        "    plt.title(title)\n",
        "    plt.xlabel('Frecuencia [Hz]')\n",
        "    plt.ylabel('Magnitud')\n",
        "    plt.grid()\n",
        "    plt.show()\n",
        "\n",
        "# Guardar la señal en un archivo WAV\n",
        "def guardar_audio(data, sample_rate, filename):\n",
        "    sf.write(filename, data, sample_rate)\n",
        "    print(f\"Audio guardado como '{filename}'\")\n",
        "\n",
        "# Función principal\n",
        "def main():\n",
        "    # Solicitar el enlace de YouTube\n",
        "    url = input(\"Introduce el enlace del video de YouTube: \")\n",
        "    output_wav = 'audio.wav'\n",
        "\n",
        "    print(\"Descargando audio de YouTube...\")\n",
        "    descargar_audio_youtube(url, output_wav)\n",
        "\n",
        "    # Cargar el archivo de audio convertido\n",
        "    sample_rate, data = cargar_audio(output_wav)\n",
        "    if data is None:\n",
        "        return  # Salir si el archivo no se encuentra\n",
        "\n",
        "    # Convertir a mono si es estéreo\n",
        "    data_segment = convertir_a_mono(data)\n",
        "\n",
        "    # Leer un fragmento de 5 segundos del archivo de audio\n",
        "    ti = 20  # tiempo de inicio en segundos\n",
        "    tf = 25  # tiempo final en segundos\n",
        "    data_segment = data_segment[int(ti * sample_rate):int(tf * sample_rate)]\n",
        "\n",
        "    # Tiempo de la señal\n",
        "    t = np.arange(len(data_segment)) / sample_rate\n",
        "\n",
        "    # Mostrar la señal de audio original\n",
        "    print(\"Graficando la señal de audio original...\")\n",
        "    graficar_senal_tiempo(t, data_segment, 'Señal de Audio en el Tiempo', 'Tiempo [s]', 'Amplitud')\n",
        "\n",
        "    # Guardar el audio original\n",
        "    guardar_audio(data_segment, sample_rate, \"original_segment.wav\")\n",
        "\n",
        "    # Transformada de Fourier de la señal de audio\n",
        "    print(\"Graficando el espectro de la señal de audio...\")\n",
        "    graficar_fft(t, data_segment, 'Espectro de la Señal de Audio')\n",
        "\n",
        "    # Parámetros de la portadora\n",
        "    Fc = float(input(\"Introduce la frecuencia de la portadora (Hz): \"))\n",
        "    Im = float(input(\"Introduce el índice de modulación (por ejemplo, 0.5): \"))\n",
        "    Ac = np.max(np.abs(data_segment)) / Im\n",
        "\n",
        "    # Generar la señal portadora\n",
        "    c = Ac * np.sin(2 * np.pi * Fc * t)\n",
        "\n",
        "    # Señal modulada\n",
        "    y = (1 + data_segment / Ac) * c\n",
        "\n",
        "    # Mostrar la señal portadora\n",
        "    print(\"Graficando la señal portadora...\")\n",
        "    graficar_senal_tiempo(t, c, 'Señal Portadora en el Tiempo', 'Tiempo [s]', 'Amplitud')\n",
        "\n",
        "    # Guardar la señal portadora\n",
        "    guardar_audio(c, sample_rate, \"carrier_signal.wav\")\n",
        "\n",
        "    # Transformada de Fourier de la señal portadora\n",
        "    print(\"Graficando el espectro de la señal portadora...\")\n",
        "    graficar_fft(t, c, 'Espectro de la Señal Portadora')\n",
        "\n",
        "    # Mostrar la señal modulada\n",
        "    print(\"Graficando la señal modulada AM...\")\n",
        "    graficar_senal_tiempo(t, y, 'Señal Modulada AM en el Tiempo', 'Tiempo [s]', 'Amplitud')\n",
        "\n",
        "    # Guardar la señal modulada\n",
        "    guardar_audio(y, sample_rate, \"modulated_signal.wav\")\n",
        "\n",
        "    # Transformada de Fourier de la señal modulada\n",
        "    print(\"Graficando el espectro de la señal modulada AM...\")\n",
        "    graficar_fft(t, y, 'Espectro de la Señal Modulada')\n",
        "\n",
        "    # Eliminar el archivo temporal\n",
        "    os.remove(output_wav)\n",
        "\n",
        "if __name__ == \"__main__\":\n",
        "    main()\n"
      ],
      "metadata": {
        "id": "TQFuo4RyvGfd"
      },
      "execution_count": null,
      "outputs": []
    }
  ]
}